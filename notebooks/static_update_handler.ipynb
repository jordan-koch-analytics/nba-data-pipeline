{
 "cells": [
  {
   "cell_type": "code",
   "execution_count": 1,
   "id": "4f4ef95f-358b-40a1-9cae-ce258b83f142",
   "metadata": {
    "tags": []
   },
   "outputs": [
    {
     "name": "stdout",
     "output_type": "stream",
     "text": [
      "team_id               int64\n",
      "team_name            object\n",
      "nickname             object\n",
      "team_abbreviation    object\n",
      "city                 object\n",
      "state                object\n",
      "year_founded          int64\n",
      "dtype: object\n",
      "player_id       int64\n",
      "player_name    object\n",
      "first_name     object\n",
      "last_name      object\n",
      "dtype: object\n"
     ]
    },
    {
     "name": "stderr",
     "output_type": "stream",
     "text": [
      "C:\\Users\\jorda\\OneDrive\\Documents\\Portfolio\\nba_stats_database\\nba-data-pipeline\\notebooks\\utils.py:263: SettingWithCopyWarning: \n",
      "A value is trying to be set on a copy of a slice from a DataFrame\n",
      "\n",
      "See the caveats in the documentation: https://pandas.pydata.org/pandas-docs/stable/user_guide/indexing.html#returning-a-view-versus-a-copy\n",
      "  df_processed.drop('is_active', axis=1, errors='ignore', inplace=True)\n",
      "C:\\Users\\jorda\\OneDrive\\Documents\\Portfolio\\nba_stats_database\\nba-data-pipeline\\notebooks\\utils.py:265: SettingWithCopyWarning: \n",
      "A value is trying to be set on a copy of a slice from a DataFrame\n",
      "\n",
      "See the caveats in the documentation: https://pandas.pydata.org/pandas-docs/stable/user_guide/indexing.html#returning-a-view-versus-a-copy\n",
      "  df_processed.rename(columns={\n"
     ]
    }
   ],
   "source": [
    "# /nba-data-pipeline/notebooks/static_update_handler.py\n",
    "\n",
    "import sys\n",
    "import os\n",
    "import json\n",
    "import logging\n",
    "from datetime import datetime\n",
    "import pandas as pd\n",
    "import numpy as np\n",
    "from utils import (\n",
    "    get_teams,\n",
    "    get_players,\n",
    "    # store_teams_in_rds,\n",
    "    # store_players_in_rds\n",
    ")\n",
    "\n",
    "# Configure logging\n",
    "logger = logging.getLogger()\n",
    "logger.setLevel(logging.INFO)\n",
    "\n",
    "def lambda_handler(event, context):\n",
    "    \"\"\"\n",
    "    AWS Lambda handler function to refresh static data on a weekly basis (teams and players).\n",
    "    \n",
    "    Parameters:\n",
    "    - event (dict): Event data that triggers the Lambda function.\n",
    "    - context (object): Provides runtime information to the handler.\n",
    "    \n",
    "    Returns:\n",
    "    - dict: Status message indicating success or failure.\n",
    "    \"\"\"\n",
    "    \n",
    "    try:\n",
    "        logger.info(\"Starting static data refresh...\")\n",
    "\n",
    "        # Fetch and process teams\n",
    "        teams_df = get_teams()\n",
    "        print(teams_df.dtypes)\n",
    "        if not teams_df.empty:\n",
    "            # store_teams_in_rds(teams_df)\n",
    "            logger.info(f\"Updated teams in RDS with {len(teams_df)} records.\")\n",
    "        else:\n",
    "            logger.warning(\"No teams data fetched.\")\n",
    "\n",
    "        # Fetch and process players\n",
    "        players_df = get_players()\n",
    "        print(players_df.dtypes)\n",
    "        if not players_df.empty:\n",
    "            # store_players_in_rds(players_df)\n",
    "            logger.info(f\"Updated players in RDS with {len(players_df)} records.\")\n",
    "        else:\n",
    "            logger.warning(\"No players data fetched.\")\n",
    "\n",
    "        logger.info(\"Static data refresh completed successfully.\")\n",
    "\n",
    "        return {\n",
    "            'statusCode': 200,\n",
    "            'body': json.dumps('Static data refresh complete.')\n",
    "        }\n",
    "\n",
    "    except Exception as e:\n",
    "        logger.error(f\"Error in static_update_handler: {str(e)}\")\n",
    "        return {\n",
    "            'statusCode': 500,\n",
    "            'body': json.dumps(f\"Static data refresh failed: {str(e)}\")\n",
    "        }\n",
    "\n",
    "# Entry Point (for local testing)\n",
    "if __name__ == \"__main__\":\n",
    "    lambda_handler({}, {})"
   ]
  },
  {
   "cell_type": "code",
   "execution_count": null,
   "id": "79e4ab60-09a0-42bb-93da-28c1882bb7c3",
   "metadata": {},
   "outputs": [],
   "source": []
  }
 ],
 "metadata": {
  "kernelspec": {
   "display_name": "Python 3 (ipykernel)",
   "language": "python",
   "name": "python3"
  },
  "language_info": {
   "codemirror_mode": {
    "name": "ipython",
    "version": 3
   },
   "file_extension": ".py",
   "mimetype": "text/x-python",
   "name": "python",
   "nbconvert_exporter": "python",
   "pygments_lexer": "ipython3",
   "version": "3.11.5"
  }
 },
 "nbformat": 4,
 "nbformat_minor": 5
}
