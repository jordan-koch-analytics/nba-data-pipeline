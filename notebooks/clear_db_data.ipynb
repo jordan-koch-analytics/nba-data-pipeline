{
 "cells": [
  {
   "cell_type": "code",
   "execution_count": 5,
   "id": "dc340e7a-1919-4670-87b5-c0c119067ce8",
   "metadata": {
    "tags": []
   },
   "outputs": [],
   "source": [
    "import logging\n",
    "import os\n",
    "import sys\n",
    "from datetime import datetime\n",
    "from utils import get_db_connection\n",
    "from dotenv import load_dotenv\n",
    "\n",
    "logger = logging.getLogger()\n",
    "logger.setLevel(logging.INFO)\n",
    "\n",
    "# Load environment variables from .env if needed\n",
    "load_dotenv()\n",
    "\n",
    "def clear_db_data():\n",
    "    \"\"\"\n",
    "    Clears all data from the teams, players, game_logs, and boxscores tables.\n",
    "    Leaves table structures intact.\n",
    "    \"\"\"\n",
    "    \n",
    "    logger.info(f'Starting clear_db_data: {datetime.now()}')\n",
    "    tables = ['boxscores', 'game_logs', 'players', 'teams', 'boxscore_failures', 'game_log_failures']\n",
    "\n",
    "    try:\n",
    "        conn = get_db_connection()\n",
    "        cursor = conn.cursor()\n",
    "\n",
    "        truncate_query = \"TRUNCATE TABLE {} RESTART IDENTITY CASCADE;\"\n",
    "        \n",
    "        for table in tables:\n",
    "            cursor.execute(truncate_query.format(table))\n",
    "            logger.info(f\"Truncated table: {table}\")\n",
    "\n",
    "        conn.commit()\n",
    "        cursor.close()\n",
    "        conn.close()\n",
    "\n",
    "        logger.info(\"All tables truncated successfully.\")\n",
    "    except Exception as e:\n",
    "        logger.error(f\"Failed to clear database data: {str(e)}\")\n",
    "        raise e\n",
    "\n",
    "# Entry point for local testing\n",
    "if __name__ == \"__main__\":\n",
    "    clear_db_data()"
   ]
  },
  {
   "cell_type": "code",
   "execution_count": null,
   "id": "a311ed0a-1356-4394-9f0a-aa7a3220f847",
   "metadata": {},
   "outputs": [],
   "source": []
  }
 ],
 "metadata": {
  "kernelspec": {
   "display_name": "Python 3 (ipykernel)",
   "language": "python",
   "name": "python3"
  },
  "language_info": {
   "codemirror_mode": {
    "name": "ipython",
    "version": 3
   },
   "file_extension": ".py",
   "mimetype": "text/x-python",
   "name": "python",
   "nbconvert_exporter": "python",
   "pygments_lexer": "ipython3",
   "version": "3.11.5"
  }
 },
 "nbformat": 4,
 "nbformat_minor": 5
}
